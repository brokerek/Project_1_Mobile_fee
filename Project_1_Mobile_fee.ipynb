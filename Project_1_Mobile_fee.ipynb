{
 "cells": [
  {
   "cell_type": "markdown",
   "metadata": {},
   "source": [
    "## Определение перспективного тарифа для телеком компании"
   ]
  },
  {
   "cell_type": "markdown",
   "metadata": {},
   "source": [
    "### Описание проекта - основная задача"
   ]
  },
  {
   "cell_type": "markdown",
   "metadata": {},
   "source": [
    "Вы аналитик компании «Мегалайн» — федерального оператора сотовой связи. Клиентам предлагают два тарифных плана: «Смарт» и «Ультра». Чтобы скорректировать рекламный бюджет, коммерческий департамент хочет понять, какой тариф приносит больше денег.\n",
    "Вам предстоит сделать предварительный анализ тарифов на небольшой выборке клиентов. \n",
    "\n",
    "В вашем распоряжении данные 500 пользователей «Мегалайна»: кто они, откуда, каким тарифом пользуются, сколько звонков и сообщений каждый отправил за 2018 год. Нужно проанализировать поведение клиентов и сделать вывод — какой тариф лучше."
   ]
  },
  {
   "cell_type": "markdown",
   "metadata": {},
   "source": [
    "### План проекта"
   ]
  },
  {
   "cell_type": "markdown",
   "metadata": {},
   "source": [
    "[ШАГ 1 Открываем файл с данными и изучаем общую информацию о представленных данных](#step1)  \n",
    "- Импортировать файлы с исходными данными и посмотреть общую информацию.\n",
    "\n",
    "[Шаг 2 Подготовка данных](#step2)  \n",
    "- Привести данные к нужным типам;\n",
    "- Найти и исправить ошибки в данных;\n",
    "- Посчитать для каждого пользователя количество сделанных звонков и израсходованных минут разговора по месяцам;\n",
    "- Посчитать для каждого пользователя оличество отправленных сообщений по месяцам;\n",
    "- Посчитать для каждого пользователя объем израсходованного интернет-трафика по месяцам;\n",
    "- Посчитать для каждого пользователя помесячную выручку с каждого пользователя.\n",
    "\n",
    "[Шаг 3 Анализ данных](#step3)  \n",
    "\n",
    "- Описать поведение клиентов оператора, исходя из выборки. Сколько минут разговора, сколько сообщений и какой объём интернет-трафика требуется пользователям каждого тарифа в месяц? \n",
    "- Посчитать среднее количество, дисперсию и стандартное отклонение. Построить гистограммы. Описать распределения.\n",
    "\n",
    "[Шаг 4. Проверка гипотез](#step4)  \n",
    "- Гипотеза1: Средняя выручка пользователей тарифов «Ультра» и «Смарт» различается;\n",
    "- Гипотеза2: Средняя выручка пользователей из Москвы отличается от выручки пользователей из других регионов.\n",
    "\n",
    "[Шаг 5. Общий вывод](#step5)\n",
    "\n",
    "- Написать общий вывод по результатам исследования."
   ]
  },
  {
   "cell_type": "markdown",
   "metadata": {},
   "source": [
    "### Шаг 1. Открываем файл с данными и изучаем общую информацию о представленных данных <a id=\"step1\"></a>  "
   ]
  },
  {
   "cell_type": "code",
   "execution_count": null,
   "metadata": {
    "scrolled": false
   },
   "outputs": [],
   "source": [
    "import pandas as pd\n",
    "import math\n",
    "import matplotlib.pyplot as plt \n",
    "import numpy as np\n",
    "from scipy import stats as st\n",
    "from scipy.stats import levene\n",
    "import warnings\n",
    "warnings.filterwarnings('ignore')\n",
    "\n",
    "data_calls = pd.read_csv('/datasets/calls.csv')\n",
    "data_internet = pd.read_csv('/datasets/internet.csv')\n",
    "data_messages = pd.read_csv('/datasets/messages.csv')\n",
    "data_tarifs = pd.read_csv('/datasets/tariffs.csv')\n",
    "data_users = pd.read_csv('/datasets/users.csv')\n",
    "\n",
    "display('Данные о звонках', data_calls.describe()) # изучение каждого датасета с помощью метода describe\n",
    "display(data_calls.info()) # проверим типы данных и посмотрим наличие пропущенных значений\n",
    "\n",
    "# проверяем дубликаты, для остальных датасетов проверяем аналогично \n",
    "display('Дубликатов в данных о звонках:', data_calls.duplicated().sum()) \n",
    "\n",
    "\n",
    "display(data_calls)\n",
    "data_calls['duration'] = data_calls['duration'].apply(math.ceil) # округлим значения до большего и приведем к значения к типу int\n",
    "print('')\n",
    "display('Данные об интернете', data_internet.describe())\n",
    "display(data_internet.info())\n",
    "\n",
    "data_internet['mb_used'] = data_internet['mb_used'].apply(math.ceil)\n",
    "del data_internet['Unnamed: 0'] # удаление лишнего столбца\n",
    "\n",
    "display ('Дубликатов в данных об интернете:', data_internet.duplicated().sum())\n",
    "display(data_internet)\n",
    "print('')\n",
    "display('Данные о сообщениях', data_messages.describe())\n",
    "display(data_messages.info())\n",
    "display ('Дубликатов в данных о сообщениях:', data_messages.duplicated().sum())\n",
    "display(data_messages)\n",
    "print('')\n",
    "display('Данные о тарифах')\n",
    "display(data_tarifs.info())\n",
    "display(data_tarifs)\n",
    "print('')\n",
    "display('Данные о пользователях', data_users.describe())\n",
    "display ('Дубликатов в данных о пользователях:', data_users.duplicated().sum())\n",
    "display(data_users.info())\n",
    "display(data_users)"
   ]
  },
  {
   "cell_type": "markdown",
   "metadata": {},
   "source": [
    "### Вывод"
   ]
  },
  {
   "cell_type": "markdown",
   "metadata": {},
   "source": [
    "- Удалили ненужный столбец из датафрейма data_internet\n",
    "- Увидели наличие значений 0 в столбцах data_internet['mb_used'] и data_calls['duration']\n",
    "- Проверили типы данных для каждого датасета\n",
    "- Обратили внимание, что во всех датасетах есть общий столбец user_id\n",
    "- Проверили данные на наличие дубликатов - дубликаты не обнаружены"
   ]
  },
  {
   "cell_type": "markdown",
   "metadata": {},
   "source": [
    "### Шаг 2. Подготовка данных <a id=\"step2\"></a>  "
   ]
  },
  {
   "cell_type": "code",
   "execution_count": 2,
   "metadata": {
    "scrolled": false
   },
   "outputs": [
    {
     "name": "stdout",
     "output_type": "stream",
     "text": [
      "Количество нулевых значений в звонках: 39613\n",
      "Процент нулевых значений от общего количества звонков равен 19.55\n",
      "Количество нулевых значений в интернет сессиях: 19598\n",
      "Процент нулевых значений от общего количества интернет сессий равен 13.12\n",
      "1204    144\n",
      "1496    141\n",
      "1429    125\n",
      "1119    124\n",
      "1227    121\n",
      "       ... \n",
      "1084      1\n",
      "1192      1\n",
      "1201      1\n",
      "1016      1\n",
      "1467      1\n",
      "Name: user_id, Length: 494, dtype: int64\n",
      "<class 'pandas.core.frame.DataFrame'>\n",
      "RangeIndex: 149396 entries, 0 to 149395\n",
      "Data columns (total 4 columns):\n",
      "id              149396 non-null object\n",
      "mb_used         149396 non-null int64\n",
      "session_date    149396 non-null object\n",
      "user_id         149396 non-null int64\n",
      "dtypes: int64(2), object(2)\n",
      "memory usage: 4.6+ MB\n",
      "None\n",
      "<class 'pandas.core.frame.DataFrame'>\n",
      "RangeIndex: 202607 entries, 0 to 202606\n",
      "Data columns (total 4 columns):\n",
      "id           202607 non-null object\n",
      "call_date    202607 non-null object\n",
      "duration     202607 non-null int64\n",
      "user_id      202607 non-null int64\n",
      "dtypes: int64(2), object(2)\n",
      "memory usage: 6.2+ MB\n",
      "None\n",
      "<class 'pandas.core.frame.DataFrame'>\n",
      "RangeIndex: 123036 entries, 0 to 123035\n",
      "Data columns (total 3 columns):\n",
      "id              123036 non-null object\n",
      "message_date    123036 non-null object\n",
      "user_id         123036 non-null int64\n",
      "dtypes: int64(1), object(2)\n",
      "memory usage: 2.8+ MB\n",
      "None\n"
     ]
    }
   ],
   "source": [
    "null_calls = data_calls[data_calls['duration'] == 0]['id'].count()\n",
    "null_mb = data_internet[data_internet['mb_used'] == 0]['id'].count()\n",
    "print('Количество нулевых значений в звонках:', null_calls)\n",
    "print('Процент нулевых значений от общего количества звонков равен {:0.2f}'.format(null_calls/data_calls['duration'].count()*100))\n",
    "print('Количество нулевых значений в интернет сессиях:', null_mb)\n",
    "print('Процент нулевых значений от общего количества интернет сессий равен {:0.2f}'.format(null_mb/data_internet['mb_used'].count()*100))\n",
    "display(data_internet[data_internet['mb_used'] == 0]['user_id'].value_counts()) # проверка на количество нулевых сессий для одного пользователя"
   ]
  },
  {
   "cell_type": "markdown",
   "metadata": {},
   "source": [
    "### Вывод"
   ]
  },
  {
   "cell_type": "markdown",
   "metadata": {},
   "source": [
    "Процент нулевых значений для звонков большой, поэтому их убирать будет не правильно. Опрделим эти значения, как пропущенные звонки.\n",
    "\n",
    "Что касается интернет сессий, то здесь не понятно, почему присутствуют нулевые значения, особенно несколько раз для одного пользователя. Классифицируем это, как ошибку и удалим все строки со значениями 0 несмотря на то, что они составляют 13.12% датасета."
   ]
  },
  {
   "cell_type": "code",
   "execution_count": 3,
   "metadata": {},
   "outputs": [
    {
     "name": "stdout",
     "output_type": "stream",
     "text": [
      "      user_id  age  churn_date         city first_name  last_name    reg_date  \\\n",
      "0        1000   52         NaN    Краснодар     Рафаил  Верещагин  2018-05-25   \n",
      "1        1000   52         NaN    Краснодар     Рафаил  Верещагин  2018-05-25   \n",
      "2        1000   52         NaN    Краснодар     Рафаил  Верещагин  2018-05-25   \n",
      "3        1000   52         NaN    Краснодар     Рафаил  Верещагин  2018-05-25   \n",
      "4        1000   52         NaN    Краснодар     Рафаил  Верещагин  2018-05-25   \n",
      "...       ...  ...         ...          ...        ...        ...         ...   \n",
      "3176     1498   68  2018-10-25  Владикавказ   Всеволод    Акимчин  2018-07-19   \n",
      "3179     1499   35         NaN        Пермь     Гектор   Корнилов  2018-09-27   \n",
      "3180     1499   35         NaN        Пермь     Гектор   Корнилов  2018-09-27   \n",
      "3178     1499   35         NaN        Пермь     Гектор   Корнилов  2018-09-27   \n",
      "3181     1499   35         NaN        Пермь     Гектор   Корнилов  2018-09-27   \n",
      "\n",
      "     tariff  month  duration  id_x  mb_used  id_y  \n",
      "0     ultra    5.0     159.0  22.0   2256.0  22.0  \n",
      "1     ultra    6.0     172.0  43.0  23257.0  60.0  \n",
      "2     ultra    7.0     340.0  47.0  14016.0  75.0  \n",
      "3     ultra    8.0     408.0  52.0  14070.0  81.0  \n",
      "4     ultra    9.0     466.0  58.0  14581.0  57.0  \n",
      "...     ...    ...       ...   ...      ...   ...  \n",
      "3176  smart    9.0     471.0  59.0  22166.0  44.0  \n",
      "3179  smart   10.0     449.0  68.0  17809.0  48.0  \n",
      "3180  smart   11.0     612.0  74.0  17984.0  59.0  \n",
      "3178  smart    9.0      70.0   9.0   1848.0  11.0  \n",
      "3181  smart   12.0     492.0  69.0  13077.0  66.0  \n",
      "\n",
      "[3182 rows x 13 columns]\n"
     ]
    }
   ],
   "source": [
    "def data_calls_month(data):\n",
    "    data['month'] = data['call_date'].dt.month # добавляем значение месяц в столбец для датасета data_calls\n",
    "\n",
    "data_calls['call_date'] = pd.to_datetime(data_calls['call_date'])\n",
    "data_calls_month(data_calls)\n",
    "\n",
    "def data_internet_month(data):\n",
    "    data['month'] = data['session_date'].dt.month # добавляем значение месяц в столбец для датасета data_internet\n",
    "\n",
    "data_internet['session_date'] = pd.to_datetime(data_internet['session_date'])\n",
    "data_internet_month(data_internet)\n",
    "\n",
    "def data_messages_month(data):\n",
    "    data['month'] = data['message_date'].dt.month # добавляем значение месяц в столбец для датасета data_messages\n",
    "\n",
    "data_messages['message_date'] = pd.to_datetime(data_messages['message_date'])\n",
    "data_messages_month(data_messages)\n",
    "                 \n",
    "\n",
    "# вычисление количества звонков для каждого пользователя\n",
    "users_calls = data_users.join(data_calls.set_index('user_id'), how='right', on='user_id')\n",
    "users_calls_pivot = users_calls.pivot_table(index = ['user_id', 'month'], aggfunc = {'id' : 'count', 'duration' : 'sum'}) \\\n",
    "                        .reset_index().rename_axis(None, axis=1)\n",
    "#print(users_calls_pivot.sort_values(by = 'user_id'))\n",
    "\n",
    "# вычисление количества звонков для каждого пользователя\n",
    "users_internet = data_users.join(data_internet.set_index('user_id'), how='right', on='user_id')\n",
    "users_internet_pivot = users_internet.pivot_table(index = ['user_id', 'month'], values = 'mb_used', aggfunc = 'sum') \\\n",
    "                        .reset_index().rename_axis(None, axis=1)\n",
    "#print(users_internet_pivot.sort_values(by = 'user_id'))\n",
    "\n",
    "# вычисление количества звонков для каждого пользователя\n",
    "users_messages = data_users.join(data_messages.set_index('user_id'), how='right', on='user_id')\n",
    "users_messages_pivot = users_messages.pivot_table(index = ['user_id', 'month'], values = 'id', aggfunc = 'count') \\\n",
    "                        .reset_index().rename_axis(None, axis=1)\n",
    "#print(users_messages_pivot.sort_values(by = 'user_id'))\n",
    "\n",
    "# объединение таблиц в одну общую с инффрмацией по звонкам, сообщениям и интернету\n",
    "detail_tariff_info = data_users.merge(users_calls_pivot, on = 'user_id', how='left')\n",
    "detail_tariff_info = detail_tariff_info.merge(users_internet_pivot, on = ['user_id', 'month'], how='left')\n",
    "detail_tariff_info = detail_tariff_info.merge(users_messages_pivot, on = ['user_id', 'month'], how='left')\n",
    "display(detail_tariff_info.sort_values(by = 'user_id'))\n"
   ]
  },
  {
   "cell_type": "markdown",
   "metadata": {},
   "source": [
    "### Вывод"
   ]
  },
  {
   "cell_type": "markdown",
   "metadata": {
    "scrolled": false
   },
   "source": [
    "Добавили для каждого датасета столбец month и заполнили его числовым значением месяца.\n",
    "Объединили все датасеты в один общий с информацией по пользователям, звонкам, сообщениям и интернету"
   ]
  },
  {
   "cell_type": "code",
   "execution_count": 4,
   "metadata": {},
   "outputs": [
    {
     "name": "stdout",
     "output_type": "stream",
     "text": [
      "      user_id  age  churn_date         city first_name  last_name    reg_date  \\\n",
      "0        1000   52         NaN    Краснодар     Рафаил  Верещагин  2018-05-25   \n",
      "1        1000   52         NaN    Краснодар     Рафаил  Верещагин  2018-05-25   \n",
      "2        1000   52         NaN    Краснодар     Рафаил  Верещагин  2018-05-25   \n",
      "3        1000   52         NaN    Краснодар     Рафаил  Верещагин  2018-05-25   \n",
      "4        1000   52         NaN    Краснодар     Рафаил  Верещагин  2018-05-25   \n",
      "...       ...  ...         ...          ...        ...        ...         ...   \n",
      "3177     1498   68  2018-10-25  Владикавказ   Всеволод    Акимчин  2018-07-19   \n",
      "3178     1499   35         NaN        Пермь     Гектор   Корнилов  2018-09-27   \n",
      "3179     1499   35         NaN        Пермь     Гектор   Корнилов  2018-09-27   \n",
      "3180     1499   35         NaN        Пермь     Гектор   Корнилов  2018-09-27   \n",
      "3181     1499   35         NaN        Пермь     Гектор   Корнилов  2018-09-27   \n",
      "\n",
      "     tariff  month  duration  id_x  mb_used  id_y  month_payment  \n",
      "0     ultra    5.0     159.0  22.0   2256.0  22.0         1950.0  \n",
      "1     ultra    6.0     172.0  43.0  23257.0  60.0         1950.0  \n",
      "2     ultra    7.0     340.0  47.0  14016.0  75.0         1950.0  \n",
      "3     ultra    8.0     408.0  52.0  14070.0  81.0         1950.0  \n",
      "4     ultra    9.0     466.0  58.0  14581.0  57.0         1950.0  \n",
      "...     ...    ...       ...   ...      ...   ...            ...  \n",
      "3177  smart   10.0     247.0  41.0  20604.0  42.0         1750.0  \n",
      "3178  smart    9.0      70.0   9.0   1848.0  11.0          550.0  \n",
      "3179  smart   10.0     449.0  68.0  17809.0  48.0         1150.0  \n",
      "3180  smart   11.0     612.0  74.0  17984.0  59.0         1513.0  \n",
      "3181  smart   12.0     492.0  69.0  13077.0  66.0          598.0  \n",
      "\n",
      "[3182 rows x 14 columns]\n"
     ]
    }
   ],
   "source": [
    "# Функция users_expenses_count на основе данных о совершенных звонках, отправленных сообщений и используемых мб интернета\n",
    "# Считает расходы пользователя на связь за один месяц\n",
    "def users_expenses_count(row):\n",
    "    if row['tariff'] == 'ultra':\n",
    "        min_included = 3000 # характеристики тарифа Ультра\n",
    "        min_pay = 1\n",
    "        message_included = 1000\n",
    "        message_pay = 1\n",
    "        internet_included = 30\n",
    "        internet_pay = 150\n",
    "        month_tariff_pay = 1950\n",
    "        if row['duration'] > min_included:\n",
    "            pay_call = (row['duration'] - min_included) * min_pay\n",
    "        else:\n",
    "            pay_call = 0\n",
    "        if row['id_y'] > message_included:\n",
    "            pay_message = (row['id_y'] - message_included) * message_pay\n",
    "        else:\n",
    "            pay_message = 0\n",
    "        if row['mb_used']/1024 > internet_included:\n",
    "            pay_internet = math.ceil((row['mb_used']/1024) - internet_included) * internet_pay\n",
    "        else:\n",
    "            pay_internet = 0\n",
    "        month_payment = pay_call + pay_message + pay_internet + month_tariff_pay\n",
    "    else:\n",
    "        min_included = 500 # характеристики тарифа Смарт\n",
    "        min_pay = 3\n",
    "        message_included = 50\n",
    "        message_pay = 3\n",
    "        internet_included = 15\n",
    "        internet_pay = 200\n",
    "        month_tariff_pay = 550        \n",
    "        if row['duration'] > min_included:\n",
    "            pay_call = (row['duration'] - min_included) * min_pay\n",
    "        else:\n",
    "            pay_call = 0\n",
    "        if row['id_y'] > message_included:\n",
    "            pay_message = (row['id_y'] - message_included) * message_pay\n",
    "        else:\n",
    "            pay_message = 0\n",
    "        if row['mb_used']/1024 > internet_included:\n",
    "            pay_internet = math.ceil((row['mb_used']/1024) - internet_included) * internet_pay\n",
    "        else:\n",
    "            pay_internet = 0\n",
    "        month_payment = pay_call + pay_message + pay_internet + month_tariff_pay\n",
    "    return month_payment\n",
    "\n",
    "detail_tariff_info['month_payment'] = detail_tariff_info.apply(users_expenses_count, axis = 1)             \n",
    "display(detail_tariff_info)    \n"
   ]
  },
  {
   "cell_type": "markdown",
   "metadata": {},
   "source": [
    "### Вывод"
   ]
  },
  {
   "cell_type": "markdown",
   "metadata": {
    "scrolled": false
   },
   "source": [
    "Рассчитали для каждого пользователя расходы на связь за месяц и добавили это значение в новый столбец общей таблицы month_payment."
   ]
  },
  {
   "cell_type": "markdown",
   "metadata": {},
   "source": [
    "### Шаг 3. Анализ данных <a id=\"step3\"></a>  "
   ]
  },
  {
   "cell_type": "markdown",
   "metadata": {
    "scrolled": false
   },
   "source": [
    "Проверим полученные данные на наличие выбросов"
   ]
  },
  {
   "cell_type": "code",
   "execution_count": 5,
   "metadata": {},
   "outputs": [
    {
     "name": "stderr",
     "output_type": "stream",
     "text": [
      "/opt/conda/lib/python3.7/site-packages/numpy/core/_asarray.py:83: VisibleDeprecationWarning: Creating an ndarray from ragged nested sequences (which is a list-or-tuple of lists-or-tuples-or ndarrays with different lengths or shapes) is deprecated. If you meant to do this, you must specify 'dtype=object' when creating the ndarray\n",
      "  return array(a, dtype, copy=False, order=order)\n"
     ]
    },
    {
     "data": {
      "image/png": "[encoded data removed]",
      "text/plain": [
       "<Figure size 432x288 with 1 Axes>"
      ]
     },
     "metadata": {
      "needs_background": "light"
     },
     "output_type": "display_data"
    }
   ],
   "source": [
    "detail_tariff_info.boxplot()\n",
    "plt.ylim(0, 1100) # для столбца mb_used используем значение 35000, найдено опытным путем\n",
    "plt.xlim(3, 7) # нагляднее всего получается, когда используется пять графика\n",
    "# перебираем все столбцы меняя значение xlim\n",
    "plt.show()\n",
    "\n",
    "detail_tariff_info = detail_tariff_info.query('duration < 1050') # обрезаем выбросы для столбцов, в которых считаем, что это необходимо для каждого тарифа\n",
    "detail_tariff_info = detail_tariff_info.query('mb_used < 35000')"
   ]
  },
  {
   "cell_type": "markdown",
   "metadata": {},
   "source": [
    "### Вывод"
   ]
  },
  {
   "cell_type": "markdown",
   "metadata": {},
   "source": [
    "Столбцы, которые не требуют обработки выбросов: user_id, age, month, id_x (количество звонков), id_y (количество сообщений)\n",
    "\n",
    "Для столбцов: duration, mb_used ограничили значения по верхнему усу, чтобы выпадающие значения не изменяли общий датасет.\n",
    "Для столбца duration - верхний ус равен 1050\n",
    "Для столбца mb_used - верхний ус равен 35000"
   ]
  },
  {
   "cell_type": "code",
   "execution_count": 6,
   "metadata": {
    "scrolled": false
   },
   "outputs": [
    {
     "name": "stdout",
     "output_type": "stream",
     "text": [
      "Количество пользователей тарифа \"Смарт\" 2213\n",
      "Количество пользователей тарифа \"Ультра\" 822\n",
      "Для тарифа \"Смарт\" среднее значение минут равно: 417.22 сообщений: 38.70 и интернета: 16173.00 Мб\n",
      "Для тарифа \"Ультра\" среднее значение минут равно: 500.20 сообщений: 59.35 и интернета: 18037.51 Мб\n",
      "\n",
      "Для тарифа \"Смарт\" дисперсия и стандартное отклонение равны 34685.94, 186.24 для звонков, 716.73, 26.77 для сообщений, 33399336.91, 5779.22 для интернета\n",
      "Для тарифа \"Ультра\" дисперсия и стандартное отклонение равны 67025.67, 258.89 для звонков, 1862.47, 43.16 для сообщений, 72447040.20, 8511.58 для интернета\n"
     ]
    }
   ],
   "source": [
    "detail_smart_info = detail_tariff_info.query('tariff == \"smart\"') # создаем отдельный датасет для тарифа \"Смарт\"\n",
    "print('Количество пользователей тарифа \"Смарт\"', detail_smart_info['user_id'].count())\n",
    "detail_ultra_info = detail_tariff_info.query('tariff == \"ultra\"') # создаем отдельный датасет для тарифа \"Ультра\"\n",
    "print('Количество пользователей тарифа \"Ультра\"', detail_ultra_info['user_id'].count())\n",
    "print('')\n",
    "\n",
    "\n",
    "mean_calls_smart = detail_smart_info['duration'].mean() # вычисление средних значений для тарифа смарт\n",
    "mean_messages_smart = detail_smart_info['id_y'].mean()\n",
    "mean_internet_smart = detail_smart_info['mb_used'].mean()\n",
    "print('Для тарифа \"Смарт\" среднее значение минут равно: {:.2f} сообщений: {:.2f} и интернета: {:.2f} Мб'.format(mean_calls_smart, mean_messages_smart, mean_internet_smart))\n",
    "\n",
    "\n",
    "mean_calls_ultra = detail_ultra_info['duration'].mean()\n",
    "mean_messages_ultra = detail_ultra_info['id_y'].mean()\n",
    "mean_internet_ultra = detail_ultra_info['mb_used'].mean()\n",
    "print('Для тарифа \"Ультра\" среднее значение минут равно: {:.2f} сообщений: {:.2f} и интернета: {:.2f} Мб'.format(mean_calls_ultra, mean_messages_ultra, mean_internet_ultra))\n",
    "print('')\n",
    "\n",
    "variance_calls_smart = np.var(detail_smart_info['duration'], ddof=1) # сичтаем именно дисперсию\n",
    "standard_deviation_calls_smart = np.sqrt(variance_calls_smart)  # считаем стадартоное отклонение\n",
    "\n",
    "variance_messages_smart = np.var(detail_smart_info['id_y'], ddof=1)\n",
    "standard_deviation_messages_smart = np.sqrt(variance_messages_smart)\n",
    "\n",
    "variance_internet_smart = np.var(detail_smart_info['mb_used'], ddof=1)\n",
    "standard_deviation_internet_smart = np.sqrt(variance_internet_smart)\n",
    "print('Для тарифа \"Смарт\" дисперсия и стандартное отклонение равны {:.2f}, {:.2f} для звонков, {:.2f}, {:.2f} для сообщений, {:.2f}, {:.2f} для интернета' \\\n",
    "      .format(variance_calls_smart, standard_deviation_calls_smart, variance_messages_smart, standard_deviation_messages_smart, variance_internet_smart, standard_deviation_internet_smart))\n",
    "\n",
    "\n",
    "variance_calls_ultra = np.var(detail_ultra_info['duration'], ddof=1) \n",
    "standard_deviation_calls_ultra = np.sqrt(variance_calls_ultra)\n",
    "\n",
    "variance_messages_ultra = np.var(detail_ultra_info['id_y'], ddof=1)\n",
    "standard_deviation_messages_ultra = np.sqrt(variance_messages_ultra)\n",
    "\n",
    "variance_internet_ultra = np.var(detail_ultra_info['mb_used'], ddof=1)\n",
    "standard_deviation_internet_ultra = np.sqrt(variance_internet_ultra)\n",
    "print('Для тарифа \"Ультра\" дисперсия и стандартное отклонение равны {:.2f}, {:.2f} для звонков, {:.2f}, {:.2f} для сообщений, {:.2f}, {:.2f} для интернета' \\\n",
    "      .format(variance_calls_ultra, standard_deviation_calls_ultra, variance_messages_ultra, standard_deviation_messages_ultra, variance_internet_ultra, standard_deviation_internet_ultra))\n"
   ]
  },
  {
   "cell_type": "markdown",
   "metadata": {},
   "source": [
    "### Вывод"
   ]
  },
  {
   "cell_type": "markdown",
   "metadata": {},
   "source": [
    "Посчитав описательные характеристики для выборок каждого тарифа можно с делать следующие выводы:\n",
    "- Количество пользователей для каждого тарифа\n",
    "    - пользователей тарифа \"Смарт\" на 232% больше, чем пользователей тарифа \"Ультра\" 2225 человек против 957\n",
    "    \n",
    "- Определить разброс в данных\n",
    "- Тариф \"Смарт\"\n",
    "    - звонки среднее 417, стд 186 - разброс допустимый (стд - стандартное отклонение)\n",
    "    - сообщения среднее 39, стд 27 - разброс большой\n",
    "    - интернет среднее 16173, стд 5779 - разброс допустимый\n",
    "- Тариф \"Ультра\"\n",
    "    - звонки среднее 500, стд 259 - разброс большой (стд - стандартное отклонение)\n",
    "    - сообщения среднее 59, стд 43 - разброс большой\n",
    "    - интернет среднее 18038, стд 8512 - разброс допустимый\n",
    "- Использование услуг связи\n",
    "    - пользователи тарифа \"Ультра\" в среднем на 120% чаше звонят, чем пользователи тарифа \"Смарт\", на 151% больше пишут сообщения и на 112% больше пользуются интернетом "
   ]
  },
  {
   "cell_type": "code",
   "execution_count": 7,
   "metadata": {
    "scrolled": false
   },
   "outputs": [
    {
     "name": "stdout",
     "output_type": "stream",
     "text": [
      "\n",
      "Максимальная длительность звонков в месяц по тарифу \"Смарт\" равно 1022.0\n",
      "Гистрограмма для звонков по тарифу \"Смарт\"\n"
     ]
    },
    {
     "data": {
      "image/png": "[encoded data removed]",
      "text/plain": [
       "<Figure size 432x288 with 1 Axes>"
      ]
     },
     "metadata": {
      "needs_background": "light"
     },
     "output_type": "display_data"
    },
    {
     "name": "stdout",
     "output_type": "stream",
     "text": [
      "\n",
      "Максимальная длительность звонков в месяц по тарифу \"Ультра\" равно 1045.0\n",
      "Гистрограмма для звонков по тарифу \"Ультра\"\n"
     ]
    },
    {
     "data": {
      "image/png": "[encoded data removed]",
      "text/plain": [
       "<Figure size 432x288 with 1 Axes>"
      ]
     },
     "metadata": {
      "needs_background": "light"
     },
     "output_type": "display_data"
    }
   ],
   "source": [
    "# Строим гистограммы для каждой характеристики тарифа\n",
    "# Гистограммы для звонков\n",
    "print('')\n",
    "print('Максимальная длительность звонков в месяц по тарифу \"Смарт\" равно', detail_smart_info['duration'].max())\n",
    "detail_smart_info['duration'].hist(bins=100) \n",
    "plt.title('Гистрограмма для звонков по тарифу \"Смарт\"')\n",
    "plt.show()\n",
    "\n",
    "print('')\n",
    "print('Максимальная длительность звонков в месяц по тарифу \"Ультра\" равно', detail_ultra_info['duration'].max())\n",
    "detail_ultra_info['duration'].hist(bins=100) \n",
    "plt.title('Гистрограмма для звонков по тарифу \"Ультра\"')\n",
    "plt.show()\n"
   ]
  },
  {
   "cell_type": "markdown",
   "metadata": {},
   "source": [
    "### Вывод"
   ]
  },
  {
   "cell_type": "markdown",
   "metadata": {},
   "source": [
    "Гистограммы для звонков обоих тарифов внешне схожи, видно, что у тарифа «Ультра» стандартное отклонение больше, поэтому пиков намного больше, чем у тарифа «Смарт». Обе гистограммы не похожи на нормальное распределение."
   ]
  },
  {
   "cell_type": "code",
   "execution_count": 8,
   "metadata": {},
   "outputs": [
    {
     "name": "stdout",
     "output_type": "stream",
     "text": [
      "\n",
      "Максимальное количество сообщений в месяц по тарифу \"Смарт\" равно 143.0\n",
      "Гистрограмма для сообщений по тарифу \"Смарт\"\n"
     ]
    },
    {
     "data": {
      "image/png": "[encoded data removed]",
      "text/plain": [
       "<Figure size 432x288 with 1 Axes>"
      ]
     },
     "metadata": {
      "needs_background": "light"
     },
     "output_type": "display_data"
    },
    {
     "name": "stdout",
     "output_type": "stream",
     "text": [
      "\n",
      "Максимальное количество сообщений в месяц по тарифу \"Ультра\" равно 224.0\n",
      "Гистрограмма для сообщений по тарифу \"Ультра\"\n"
     ]
    },
    {
     "data": {
      "image/png": "[encoded data removed]",
      "text/plain": [
       "<Figure size 432x288 with 1 Axes>"
      ]
     },
     "metadata": {
      "needs_background": "light"
     },
     "output_type": "display_data"
    }
   ],
   "source": [
    "# Гистограммы для сообщений\n",
    "print('')\n",
    "print('Максимальное количество сообщений в месяц по тарифу \"Смарт\" равно', detail_smart_info['id_y'].max())\n",
    "detail_smart_info['id_y'].hist(bins=100)\n",
    "plt.title('Гистрограмма для сообщений по тарифу \"Смарт\"')\n",
    "plt.show()\n",
    "\n",
    "print('')\n",
    "print('Максимальное количество сообщений в месяц по тарифу \"Ультра\" равно', detail_ultra_info['id_y'].max())\n",
    "detail_ultra_info['id_y'].hist(bins=100)\n",
    "plt.title('Гистрограмма для сообщений по тарифу \"Ультра\"')\n",
    "plt.show()"
   ]
  },
  {
   "cell_type": "markdown",
   "metadata": {},
   "source": [
    "### Вывод"
   ]
  },
  {
   "cell_type": "markdown",
   "metadata": {},
   "source": [
    "Гистограммы для сообщений тоже внешне схожи, видно, что стандартное отклонение для обоих тарифов большое, много пиков. Обе гистограммы не похожи на нормальное распределение."
   ]
  },
  {
   "cell_type": "code",
   "execution_count": 9,
   "metadata": {},
   "outputs": [
    {
     "name": "stdout",
     "output_type": "stream",
     "text": [
      "\n",
      "Максимальное количество используемых МБ интернета в месяц по тарифу \"Смарт\" равно 34962.0\n",
      "Гистрограмма для используемых МБ интернета по тарифу \"Смарт\"\n"
     ]
    },
    {
     "data": {
      "image/png": "[encoded data removed]",
      "text/plain": [
       "<Figure size 432x288 with 1 Axes>"
      ]
     },
     "metadata": {
      "needs_background": "light"
     },
     "output_type": "display_data"
    },
    {
     "name": "stdout",
     "output_type": "stream",
     "text": [
      "\n",
      "Максимальное количество используемых МБ интернета в месяц по тарифу \"Ультра\" равно 34924.0\n",
      "Гистрограмма для используемых МБ интернета по тарифу \"Ультра\"\n"
     ]
    },
    {
     "data": {
      "image/png": "[encoded data removed]",
      "text/plain": [
       "<Figure size 432x288 with 1 Axes>"
      ]
     },
     "metadata": {
      "needs_background": "light"
     },
     "output_type": "display_data"
    }
   ],
   "source": [
    "# Гистограммы для интернета\n",
    "print('')\n",
    "print('Максимальное количество используемых МБ интернета в месяц по тарифу \"Смарт\" равно', detail_smart_info['mb_used'].max())\n",
    "detail_smart_info['mb_used'].hist(bins=100) \n",
    "plt.title('Гистрограмма для используемых МБ интернета по тарифу \"Смарт\"')\n",
    "plt.show()\n",
    "\n",
    "print('')\n",
    "print('Максимальное количество используемых МБ интернета в месяц по тарифу \"Ультра\" равно', detail_ultra_info['mb_used'].max())\n",
    "detail_ultra_info['mb_used'].hist(bins=100) \n",
    "plt.title('Гистрограмма для используемых МБ интернета по тарифу \"Ультра\"')\n",
    "plt.show()"
   ]
  },
  {
   "cell_type": "markdown",
   "metadata": {},
   "source": [
    "### Вывод"
   ]
  },
  {
   "cell_type": "markdown",
   "metadata": {},
   "source": [
    "Гистограммы для интернета внешне схожи, стандартное отклонение в пределах нормы, хотя для тарифа «Ультра» приближается к отметке, где разброс будет являться большим. Гистограмма для тарифа «Смарт» похожа на нормальное распрделение."
   ]
  },
  {
   "cell_type": "code",
   "execution_count": 10,
   "metadata": {},
   "outputs": [
    {
     "name": "stdout",
     "output_type": "stream",
     "text": [
      "\n",
      "Максимальное оплата за месяц по тарифу \"Смарт\" равна 4664.0\n",
      "Гистрограмма для оплаты за месяц по тарифу \"Смарт\"\n"
     ]
    },
    {
     "data": {
      "image/png": "[encoded data removed]",
      "text/plain": [
       "<Figure size 432x288 with 1 Axes>"
      ]
     },
     "metadata": {
      "needs_background": "light"
     },
     "output_type": "display_data"
    },
    {
     "name": "stdout",
     "output_type": "stream",
     "text": [
      "\n",
      "Максимальное оплата за месяц по тарифу \"Ультра\" равна 2700.0\n",
      "Гистрограмма для оплаты за месяц по тарифу \"Ультра\"\n"
     ]
    },
    {
     "data": {
      "image/png": "[encoded data removed]",
      "text/plain": [
       "<Figure size 432x288 with 1 Axes>"
      ]
     },
     "metadata": {
      "needs_background": "light"
     },
     "output_type": "display_data"
    }
   ],
   "source": [
    "# Гистограммы для выручки по тарифам\n",
    "print('')\n",
    "print('Максимальное оплата за месяц по тарифу \"Смарт\" равна', detail_smart_info['month_payment'].max())\n",
    "detail_smart_info['month_payment'].hist(bins=100) \n",
    "plt.title('Гистрограмма для оплаты за месяц по тарифу \"Смарт\"')\n",
    "plt.show()\n",
    "\n",
    "print('')\n",
    "print('Максимальное оплата за месяц по тарифу \"Ультра\" равна', detail_ultra_info['month_payment'].max())\n",
    "detail_ultra_info['month_payment'].hist(bins=100) \n",
    "plt.title('Гистрограмма для оплаты за месяц по тарифу \"Ультра\"')\n",
    "plt.show()"
   ]
  },
  {
   "cell_type": "markdown",
   "metadata": {},
   "source": [
    "### Вывод"
   ]
  },
  {
   "cell_type": "markdown",
   "metadata": {},
   "source": [
    "По тарифу «Смарт» максимальный платеж на 141% больше, чем по тарифу «Ультра». Но большинство пользователей платят сумму до 2000 рублей. Гистограммы не похожи друг на друга, и обе не являются нормальным распределением."
   ]
  },
  {
   "cell_type": "markdown",
   "metadata": {},
   "source": [
    "### Шаг 4. Проверка гипотез <a id=\"step4\"></a>  "
   ]
  },
  {
   "cell_type": "markdown",
   "metadata": {},
   "source": [
    "Проверим распределение значений из столбца month_payment для двух тарифов на нормальность с помощью теста Шапиро-Уилка \n",
    "\n",
    "Нулевая гипотеза H0 теста Шапиро–Уилка заключается в том, что случайная величина, выборка x которой известна, распределена по нормальному закону. Альтернативная гипотеза H1 заключается в том, закон распределения не является нормальным"
   ]
  },
  {
   "cell_type": "code",
   "execution_count": 11,
   "metadata": {
    "scrolled": true
   },
   "outputs": [
    {
     "name": "stdout",
     "output_type": "stream",
     "text": [
      "Отвергаем нулевую гипотезу\n"
     ]
    }
   ],
   "source": [
    "smart_month_payment = detail_smart_info['month_payment']\n",
    "ultra_month_payment = detail_ultra_info['month_payment']\n",
    "\n",
    "# проверяем нормальность распределения тестом Шапиро\n",
    "shapiro_stat_1, shapiro_p_1 = st.shapiro(smart_month_payment)\n",
    "shapiro_stat_2, shapiro_p_2 = st.shapiro(ultra_month_payment)\n",
    "alpha = .05\n",
    "\n",
    "if shapiro_p_1 < alpha and shapiro_p_2 < alpha:\n",
    "    print(\"Отвергаем нулевую гипотезу\")\n",
    "else:\n",
    "    print(\"Не получилось отвергнуть нулевую гипотезу\")\n",
    "   "
   ]
  },
  {
   "cell_type": "markdown",
   "metadata": {},
   "source": [
    "### Вывод"
   ]
  },
  {
   "cell_type": "markdown",
   "metadata": {},
   "source": [
    "После проверки гипотезы стало понятно, что наша гипотеза отвергнута и как следствие оба распределения являются не нормальнымы.\n",
    "\n",
    "Сформируем следующую гипотезу.\n",
    "\n",
    "Наша нулевая гипотеза H0 - средняя выручки пользователей тарифов «Ультра» и «Смарт» одинаковы. Альтернативная гипотеза H1 - средняя выручки пользователей тарифов «Ультра» и «Смарт» различаются.\n",
    "\n",
    "Так распредление не нормальное, то проверим гипотезу с помощью критерия Манна-Уитни"
   ]
  },
  {
   "cell_type": "code",
   "execution_count": 12,
   "metadata": {},
   "outputs": [
    {
     "name": "stdout",
     "output_type": "stream",
     "text": [
      "p-значение: 0.0000000000\n",
      "Отвергаем нулевую гипотезу\n"
     ]
    }
   ],
   "source": [
    "u_alpha = .01\n",
    "u_results = st.mannwhitneyu(smart_month_payment, ultra_month_payment, alternative = 'two-sided') # используем критерий Манна Уитни для не нормального распределения\n",
    "print('p-значение: {:.10f}'.format(u_results.pvalue))\n",
    "if u_results.pvalue < u_alpha:\n",
    "    print(\"Отвергаем нулевую гипотезу\")\n",
    "else:\n",
    "    print(\"Не получилось отвергнуть нулевую гипотезу\")\n"
   ]
  },
  {
   "cell_type": "markdown",
   "metadata": {},
   "source": [
    "### Вывод"
   ]
  },
  {
   "cell_type": "markdown",
   "metadata": {},
   "source": [
    "После проверки гипотезы стало понятно, что наша гипотеза отвергнута и следовательно используем альтернативную гипотезу, а именно: средняя выручка пользователей тарифов «Ультра» и «Смарт» различаются."
   ]
  },
  {
   "cell_type": "markdown",
   "metadata": {},
   "source": [
    "Проверим распределение значений из столбца month_payment для двух тарифов на нормальность с помощью теста Шапиро-Уилка в выборках Москвы и других регионов.\n",
    "\n",
    "Нулевая гипотеза H0 теста Шапиро–Уилка заключается в том, что случайная величина, выборка x которой известна, распределена по нормальному закону. Альтернативная гипотеза H1 заключается в том, закон распределения не является нормальным."
   ]
  },
  {
   "cell_type": "code",
   "execution_count": 13,
   "metadata": {},
   "outputs": [
    {
     "name": "stdout",
     "output_type": "stream",
     "text": [
      "Отвергаем нулевую гипотезу\n"
     ]
    }
   ],
   "source": [
    "moscow_detail_tariff_info = detail_tariff_info.query('city == \"Москва\"')\n",
    "moscow_month_payment = moscow_detail_tariff_info['month_payment']\n",
    "\n",
    "another_detail_tariff_info  = detail_tariff_info.query('city != \"Москва\"')\n",
    "another_month_payment = another_detail_tariff_info['month_payment']\n",
    "\n",
    "# проверяем нормальность распределения тестом Шапиро\n",
    "shapiro_stat_1, shapiro_p_1 = st.shapiro(moscow_month_payment)\n",
    "shapiro_stat_2, shapiro_p_2 = st.shapiro(another_month_payment)\n",
    "alpha = .05\n",
    "\n",
    "if shapiro_p_1 < alpha and shapiro_p_2 < alpha:\n",
    "    print(\"Отвергаем нулевую гипотезу\")\n",
    "else:\n",
    "    print(\"Не получилось отвергнуть нулевую гипотезу\")\n"
   ]
  },
  {
   "cell_type": "markdown",
   "metadata": {},
   "source": [
    "### Вывод"
   ]
  },
  {
   "cell_type": "markdown",
   "metadata": {},
   "source": [
    "После проверки гипотезы стало понятно, что наша гипотеза отвергнута и как следствие оба распределения являются не нормальнымы.\n",
    "\n",
    "Сформируем следующую гипотезу.\n",
    "\n",
    "Наша нулевая гипотеза H0 - средняя выручка пользователей из Москвы и выручка пользователей из других регионов одинаковы. Альтернативная гипотеза H1 - средняя выручка пользователей из Москвы и выручка пользователей из других регионов различны.\n",
    "\n",
    "\n",
    "Так распредление не нормальное, то проверим гипотезу с помощью критерия Манна-Уитни."
   ]
  },
  {
   "cell_type": "code",
   "execution_count": 14,
   "metadata": {},
   "outputs": [
    {
     "name": "stdout",
     "output_type": "stream",
     "text": [
      "p-значение: 0.3469630352\n",
      "Не получилось отвергнуть нулевую гипотезу\n"
     ]
    }
   ],
   "source": [
    "u_alpha = .01\n",
    "u_results = st.mannwhitneyu(moscow_month_payment, another_month_payment, alternative = 'two-sided') # используем критерий Манна Уитни для не нормального распределения\n",
    "print('p-значение: {:.10f}'.format(u_results.pvalue))\n",
    "if u_results.pvalue < u_alpha:\n",
    "    print(\"Отвергаем нулевую гипотезу\")\n",
    "else:\n",
    "    print(\"Не получилось отвергнуть нулевую гипотезу\")"
   ]
  },
  {
   "cell_type": "markdown",
   "metadata": {},
   "source": [
    "### Вывод"
   ]
  },
  {
   "cell_type": "markdown",
   "metadata": {},
   "source": [
    "После проверки гипотезы стало понятно, что не получилось  отвергнуть нулевую гипотезу и следовательно используем нулевувю гипотезу, а именно: средняя выручка пользователей из Москвы и выручка пользователей из других регионов одинаковы."
   ]
  },
  {
   "cell_type": "markdown",
   "metadata": {},
   "source": [
    "### Шаг 5. Общий вывод <a id=\"step5\"></a>  "
   ]
  },
  {
   "cell_type": "code",
   "execution_count": 15,
   "metadata": {},
   "outputs": [
    {
     "name": "stdout",
     "output_type": "stream",
     "text": [
      "Средняя стоимость оплаты тарифа \"Смарт\" составляет 1280.0741075463172\n",
      "Средняя стоимость оплаты тарифа \"Ультра\" составляет 1976.094890510949\n",
      "\n",
      "Выручка по тарифу \"Смарт\" равна 2832804.0\n",
      "Выручка по тарифу \"Смарт\" равна 1624350.0\n",
      "\n",
      "Количество пользователей тарифа \"Смарт\" с месечной оплатой ниже 1950 (мес. оплата тарифа \"Ультра\") равно 81.3 %\n",
      "Количество пользователей тарифа \"Ультра\" с месечной оплатой выше 1950 равно 6.7 %\n"
     ]
    }
   ],
   "source": [
    "print('Средняя стоимость оплаты тарифа \"Смарт\" составляет', detail_smart_info['month_payment'].mean())\n",
    "print('Средняя стоимость оплаты тарифа \"Ультра\" составляет', detail_ultra_info['month_payment'].mean())\n",
    "print('')\n",
    "print('Выручка по тарифу \"Смарт\" равна', detail_smart_info['month_payment'].sum())\n",
    "print('Выручка по тарифу \"Смарт\" равна', detail_ultra_info['month_payment'].sum())\n",
    "print('')\n",
    "all_smart = detail_smart_info['user_id'].count() # всего полльзователей тарифа \"Смарт\"\n",
    "pay_min = detail_smart_info[detail_smart_info['month_payment'] <= 1950]['user_id'].count()\n",
    "smart_pay_min = pay_min/all_smart*100\n",
    "print('Количество пользователей тарифа \"Смарт\" с месечной оплатой ниже 1950 (мес. оплата тарифа \"Ультра\") равно {:.1f} %'.format(smart_pay_min))\n",
    "\n",
    "all_ultra = detail_ultra_info['user_id'].count() # всего полльзователей тарифа \"Ультра\"\n",
    "pay_min_ultra = detail_ultra_info[detail_ultra_info['month_payment'] > 1950]['user_id'].count()\n",
    "ultra_pay_min = pay_min_ultra/all_ultra*100\n",
    "print('Количество пользователей тарифа \"Ультра\" с месечной оплатой выше 1950 равно {:.1f} %'.format(ultra_pay_min))\n"
   ]
  },
  {
   "cell_type": "markdown",
   "metadata": {},
   "source": [
    "### Вывод"
   ]
  },
  {
   "cell_type": "markdown",
   "metadata": {},
   "source": [
    "После анализа гипотез мы сделали вывод, что выручки отличаются.\n",
    "Хотя максимальные значение по оплате тарифа \"Смарт\" на 141% больше, чем по тарифу «Ультра» 6770 против 4800, мы видим, что среднее значение у тарифа \"Ультра\" больше на 154% 1976 против 1280.\n",
    "\n",
    "Выручка тарифа \"Смарт\" больше выручки от тарифа \"Ультра\" на 145% 2 881151 против 1 982100\n",
    "Количество пользователей тарифа \"Смарт\" на 232% больше, чем у тарифа \"Ультра\" 2225 против 957\n",
    "\n",
    "Пользователи тарифа \"Ультра\" больше используют услуги связи. В среднем на 120% чаше звонят, на 151% больше пишут сообщения и \n",
    "на 112% больше пользуются интернетом.\n",
    "\n",
    "Большинство пользователей тарифа \"Смарт\" полностью используют возможности данного тарифа и использует дополнительные услуги, но даже с учетом дополнительных услуг месечная стоимость тарифа у 81% пользователей месечная оплата тарифа меньше, чем по тарифу \"Ультра\".\n",
    "\n",
    "Для тарифа другая закономерность - всего 6.7% пользователей оплачивают дополнительные услуги. А большинство пользователей полностью не используют возможности тарифа, что очень выгодно для компании. Пользователь платит за это деньги, но не использует.\n",
    "\n",
    "Окончательный вывод таков: даже с учетом того, что тариф \"Смарт\" приносит больше выручки компании, для компании выгодным тарифом является тариф \"Ультра\"\n"
   ]
  }
 ],
 "metadata": {
  "kernelspec": {
   "display_name": "Python 3",
   "language": "python",
   "name": "python3"
  },
  "language_info": {
   "codemirror_mode": {
    "name": "ipython",
    "version": 3
   },
   "file_extension": ".py",
   "mimetype": "text/x-python",
   "name": "python",
   "nbconvert_exporter": "python",
   "pygments_lexer": "ipython3",
   "version": "3.8.3"
  },
  "toc": {
   "base_numbering": 1,
   "nav_menu": {},
   "number_sections": true,
   "sideBar": true,
   "skip_h1_title": true,
   "title_cell": "Table of Contents",
   "title_sidebar": "Contents",
   "toc_cell": false,
   "toc_position": {},
   "toc_section_display": true,
   "toc_window_display": false
  }
 },
 "nbformat": 4,
 "nbformat_minor": 2
}
